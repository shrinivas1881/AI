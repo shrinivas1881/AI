{
  "nbformat": 4,
  "nbformat_minor": 0,
  "metadata": {
    "colab": {
      "provenance": []
    },
    "kernelspec": {
      "name": "python3",
      "display_name": "Python 3"
    },
    "language_info": {
      "name": "python"
    }
  },
  "cells": [
    {
      "cell_type": "markdown",
      "source": [
        "Shrinivas Gollalappa Kadaganchi\n",
        "\n",
        "700750193\n",
        "\n",
        "sxk01930@ucmo.edu\n",
        "\n",
        "CS5700\n",
        "\n",
        "Github Link:- https://github.com/shrinivas1881/AI.git"
      ],
      "metadata": {
        "id": "Gjk9GUlsXfPD"
      }
    },
    {
      "cell_type": "markdown",
      "source": [
        "**Exercise 1**\n",
        "\n",
        "Implement a Depth-First Search algorithm to find the path from the start node ’S’ to the goal node ’G’.\n",
        "\n",
        "Please consider the topology that is shared in Figure 1.\n",
        "\n",
        "• Your implementation should correctly navigate this graph using DFS to find a path from ’S’ to ’G’.\n",
        "\n",
        "• Your DFS algorithm should output the path from ’S’ to ’G’ as a sequence of nodes.\n",
        "\n",
        "• Include comments and clear documentation in your code for clarity.\n",
        "\n",
        "• Ensure that your code is well-structured and follows best coding practices."
      ],
      "metadata": {
        "id": "E6CkQi0DSVjO"
      }
    },
    {
      "cell_type": "markdown",
      "source": [
        "![image.png](data:image/png;base64,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)"
      ],
      "metadata": {
        "id": "zv2dxpTaXE8u"
      }
    },
    {
      "cell_type": "code",
      "source": [
        "# Define the graph as an adjacency list.\n",
        "graph = {\n",
        "    'S': ['C', 'B'],\n",
        "    'B': ['E', 'D'],\n",
        "    'C': ['F'],\n",
        "    'E': ['I','G'],\n",
        "    'D': ['H'],\n",
        "    'F': ['J'],\n",
        "    'H': [],\n",
        "    'G': [],\n",
        "    'I': [],\n",
        "    'J': []\n",
        "}"
      ],
      "metadata": {
        "id": "NnbN9sySWL6y"
      },
      "execution_count": null,
      "outputs": []
    },
    {
      "cell_type": "code",
      "source": [
        "def dfs(graph, start, goal):\n",
        "    # Initialize a stack for DFS.\n",
        "    stack = [(start, [start])]  # Each element in the stack is a tuple (node, path_so_far).\n",
        "\n",
        "    while stack:\n",
        "        node, path = stack.pop()  # Pop the last node and its path from the stack.\n",
        "        print(f\"Traversed to node {node} : {path}\")\n",
        "\n",
        "        if node == goal:\n",
        "            return path  # If we reached the goal node, return the path.\n",
        "\n",
        "        for neighbor in graph.get(node, []):\n",
        "            if neighbor not in path:  # Avoid revisiting nodes in the current path.\n",
        "                stack.append((neighbor, path + [neighbor]))  # Push neighbors onto the stack with updated path.\n",
        "\n",
        "    return None  # If no path is found, return None.\n",
        "\n",
        "# Test the DFS algorithm.\n",
        "start_node = 'S'\n",
        "goal_node = 'G'\n",
        "result = dfs(graph, start_node, goal_node)\n",
        "\n",
        "if result:\n",
        "    print(f\"Path from {start_node} to {goal_node} using DFS: {result}\")\n",
        "else:\n",
        "    print(f\"No path found from {start_node} to {goal_node} using DFS.\")\n"
      ],
      "metadata": {
        "colab": {
          "base_uri": "https://localhost:8080/"
        },
        "id": "7dGTVqyzSgrp",
        "outputId": "260fda01-b8bb-418d-a0c4-e40c20f2cc93"
      },
      "execution_count": 5,
      "outputs": [
        {
          "output_type": "stream",
          "name": "stdout",
          "text": [
            "Traversed to node S : ['S']\n",
            "Traversed to node B : ['S', 'B']\n",
            "Traversed to node D : ['S', 'B', 'D']\n",
            "Traversed to node H : ['S', 'B', 'D', 'H']\n",
            "Traversed to node E : ['S', 'B', 'E']\n",
            "Traversed to node G : ['S', 'B', 'E', 'G']\n",
            "Path from S to G using DFS: ['S', 'B', 'E', 'G']\n"
          ]
        }
      ]
    },
    {
      "cell_type": "markdown",
      "source": [
        "**Exercise 2**\n",
        "\n",
        "Implement a Breadth-First Search algorithm to find the path from the start node ’S’ to the goal node ’G’.\n",
        "\n",
        "You are provided with the same graph topology as in Task 1.\n",
        "\n",
        "• Your implementation should correctly navigate this graph using BFS to find a path from ’S’ to ’G’.\n",
        "\n",
        "• Your BFS algorithm should output the path from ’S’ to ’G’ as a sequence of nodes.\n",
        "\n",
        "• Include comments and clear documentation in your code for clarity.\n",
        "\n",
        "• Ensure that your code is well-structured and follows best coding practices."
      ],
      "metadata": {
        "id": "VeLcaA3oVTlX"
      }
    },
    {
      "cell_type": "code",
      "source": [
        "from collections import deque\n",
        "\n",
        "\n",
        "def bfs(graph, start, goal):\n",
        "    queue = deque([(start, [start])])  # Each element in the queue is a tuple (node, path_so_far).\n",
        "\n",
        "    while queue:\n",
        "        node, path = queue.popleft()  # Dequeue the first node and its path.\n",
        "        print(f\"Traversed to node {node} : {path}\")\n",
        "        if node == goal:\n",
        "            return path  # If we reached the goal node, return the path.\n",
        "\n",
        "        for neighbor in graph.get(node, []):\n",
        "            if neighbor not in path:  # Avoid revisiting nodes in the current path.\n",
        "                queue.append((neighbor, path + [neighbor]))  # Enqueue neighbors with an updated path.\n",
        "\n",
        "    return None  # If no path is found, return None.\n",
        "\n",
        "# Test the BFS algorithm.\n",
        "start_node = 'S'\n",
        "goal_node = 'G'\n",
        "result = bfs(graph, start_node, goal_node)\n",
        "\n",
        "if result:\n",
        "    print(f\"Path from {start_node} to {goal_node} using BFS: {result}\")\n",
        "else:\n",
        "    print(f\"No path found from {start_node} to {goal_node} using BFS.\")\n"
      ],
      "metadata": {
        "colab": {
          "base_uri": "https://localhost:8080/"
        },
        "id": "jJpNlk0CVhrm",
        "outputId": "1ed3719e-ed00-4c81-a7c5-5a47e4e5ff81"
      },
      "execution_count": 7,
      "outputs": [
        {
          "output_type": "stream",
          "name": "stdout",
          "text": [
            "Traversed to node S : ['S']\n",
            "Traversed to node C : ['S', 'C']\n",
            "Traversed to node B : ['S', 'B']\n",
            "Traversed to node F : ['S', 'C', 'F']\n",
            "Traversed to node E : ['S', 'B', 'E']\n",
            "Traversed to node D : ['S', 'B', 'D']\n",
            "Traversed to node J : ['S', 'C', 'F', 'J']\n",
            "Traversed to node I : ['S', 'B', 'E', 'I']\n",
            "Traversed to node G : ['S', 'B', 'E', 'G']\n",
            "Path from S to G using BFS: ['S', 'B', 'E', 'G']\n"
          ]
        }
      ]
    }
  ]
}